{
    "metadata": {
        "kernelspec": {
            "name": "SQL",
            "display_name": "SQL",
            "language": "sql"
        },
        "language_info": {
            "name": "sql",
            "version": ""
        }
    },
    "nbformat_minor": 2,
    "nbformat": 4,
    "cells": [
        {
            "cell_type": "code",
            "source": [
                "SELECT order_details_id, pizza_order_details.order_id, pizza_prices.pizza_id, pizza_prices.pizza_type_id, category, size, price, date, time\n",
                "FROM pizza_order_details\n",
                "FULL OUTER JOIN pizza_orders\n",
                "ON pizza_order_details.order_id = pizza_orders.order_id\n",
                "FULL OUTER JOIN pizza_prices\n",
                "ON pizza_order_details.pizza_id = pizza_prices.pizza_id\n",
                "FULL OUTER JOIN pizza_types\n",
                "ON pizza_prices.pizza_type_id = pizza_types.pizza_type_id"
            ],
            "metadata": {
                "azdata_cell_guid": "97402707-d877-4c7e-964d-dbd69cd399a7",
                "language": "sql"
            },
            "outputs": [],
            "execution_count": null
        }
    ]
}