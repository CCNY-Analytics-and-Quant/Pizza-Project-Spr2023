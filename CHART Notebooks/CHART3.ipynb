{
 "cells": [
  {
   "cell_type": "code",
   "execution_count": 1,
   "id": "0eaaa0e2-eb26-426b-9783-d2822f320109",
   "metadata": {},
   "outputs": [],
   "source": [
    "import pandas as pd\n",
    "import matplotlib.pyplot as plt\n",
    "import seaborn as sns"
   ]
  },
  {
   "cell_type": "code",
   "execution_count": 2,
   "id": "348931cb-ef34-4871-b6b2-673fe07d6e85",
   "metadata": {},
   "outputs": [],
   "source": [
    "df = pd.read_csv('Resultsd.csv')"
   ]
  },
  {
   "cell_type": "code",
   "execution_count": 3,
   "id": "288c0e4d-9db3-46c9-bcde-effd82f7a26c",
   "metadata": {},
   "outputs": [],
   "source": [
    "df['datetime'] = pd.to_datetime(df['date'] + ' ' + df['time'])"
   ]
  },
  {
   "cell_type": "code",
   "execution_count": 4,
   "id": "06c97ccc-3422-4b7a-b51b-7e16bdd87433",
   "metadata": {},
   "outputs": [],
   "source": [
    "df.set_index('datetime', inplace=True)"
   ]
  },
  {
   "cell_type": "code",
   "execution_count": 5,
   "id": "0be1ec1e-9c4f-48f5-bdcf-adaec707e4d3",
   "metadata": {},
   "outputs": [],
   "source": [
    "hourly_pizza_counts = df.groupby([df.index.hour, 'pizza_id'])['order_details_id'].count().reset_index()"
   ]
  },
  {
   "cell_type": "code",
   "execution_count": 6,
   "id": "d40deda6-8459-48f0-bce1-64196ed2173d",
   "metadata": {},
   "outputs": [],
   "source": [
    "hourly_pizza_counts.columns = ['hour', 'pizza_id', 'count']"
   ]
  },
  {
   "cell_type": "code",
   "execution_count": 7,
   "id": "26b2cb96-83c6-40d5-8117-81520f0a8281",
   "metadata": {},
   "outputs": [],
   "source": [
    "top_pizzas = hourly_pizza_counts.groupby('pizza_id')['count'].sum().nlargest(10).index"
   ]
  },
  {
   "cell_type": "code",
   "execution_count": null,
   "id": "55489769-a7b1-4f30-a0f3-0d775e5cb234",
   "metadata": {},
   "outputs": [],
   "source": [
    "hourly_pizza_counts = hourly_pizza_counts[hourly_pizza_counts['pizza_id'].isin(top_pizzas)]"
   ]
  }
 ],
 "metadata": {
  "kernelspec": {
   "display_name": "Python 3 (ipykernel)",
   "language": "python",
   "name": "python3"
  },
  "language_info": {
   "codemirror_mode": {
    "name": "ipython",
    "version": 3
   },
   "file_extension": ".py",
   "mimetype": "text/x-python",
   "name": "python",
   "nbconvert_exporter": "python",
   "pygments_lexer": "ipython3",
   "version": "3.9.7"
  }
 },
 "nbformat": 4,
 "nbformat_minor": 5
}
