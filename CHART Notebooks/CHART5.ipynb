{
 "cells": [
  {
   "cell_type": "code",
   "execution_count": 27,
   "id": "bd9cc82d-fe85-474f-a14d-bb95319ce3c5",
   "metadata": {},
   "outputs": [],
   "source": [
    "import pandas as pd\n",
    "import matplotlib.pyplot as plt\n",
    "import seaborn as sns"
   ]
  },
  {
   "cell_type": "code",
   "execution_count": 28,
   "id": "5e08ebf7-2fdf-4eea-83df-934c39c1f342",
   "metadata": {},
   "outputs": [],
   "source": [
    "df = pd.read_csv('Resultsd.csv')\n"
   ]
  },
  {
   "cell_type": "code",
   "execution_count": null,
   "id": "e6de2f9f-e7a8-407e-80cb-769a03ced225",
   "metadata": {},
   "outputs": [],
   "source": [
    "df['revenue'] = df['price']\n"
   ]
  },
  {
   "cell_type": "code",
   "execution_count": null,
   "id": "17034e91-938b-44dd-b297-79d4822ac313",
   "metadata": {},
   "outputs": [],
   "source": []
  }
 ],
 "metadata": {
  "kernelspec": {
   "display_name": "Python 3 (ipykernel)",
   "language": "python",
   "name": "python3"
  },
  "language_info": {
   "codemirror_mode": {
    "name": "ipython",
    "version": 3
   },
   "file_extension": ".py",
   "mimetype": "text/x-python",
   "name": "python",
   "nbconvert_exporter": "python",
   "pygments_lexer": "ipython3",
   "version": "3.9.7"
  }
 },
 "nbformat": 4,
 "nbformat_minor": 5
}
